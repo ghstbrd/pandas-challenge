{
 "cells": [
  {
   "cell_type": "code",
   "execution_count": null,
   "id": "31ed1419-532a-4026-bb55-c72c9fb63b0f",
   "metadata": {},
   "outputs": [],
   "source": [
    "import pandas as pd\n",
    "\n",
    "# Load the CSV files\n",
    "schools_complete = pd.read_csv('../PyCitySchools/Resources/schools_complete.csv')\n",
    "students_complete = pd.read_csv('../PyCitySchools/Resources/students_complete.csv')\n",
    "\n",
    "# Merge the two datasets on the \"school_name\" column\n",
    "merged_data = pd.merge(students_complete, schools_complete, how=\"left\", on=\"school_name\")\n",
    "\n",
    "# Saving the merged data to a new CSV to use in further analysis if needed\n",
    "merged_data.to_csv('../PyCitySchools/Resources/merged_school_data.csv', index=False)\n",
    "\n",
    "# Display the first few rows of the merged data\n",
    "merged_data.head()"
   ]
  },
  {
   "cell_type": "code",
   "execution_count": null,
   "id": "9e43c114-9fa2-4eae-a1a2-d38f88701445",
   "metadata": {},
   "outputs": [],
   "source": [
    "# District Summary Calculations\n",
    "total_schools = merged_data['school_name'].nunique()\n",
    "total_students = merged_data['Student ID'].nunique()\n",
    "total_budget = merged_data.groupby('school_name')['budget'].first().sum()\n",
    "\n",
    "average_math_score = merged_data['math_score'].mean()\n",
    "average_reading_score = merged_data['reading_score'].mean()\n",
    "average_math_score, average_reading_score"
   ]
  },
  {
   "cell_type": "code",
   "execution_count": null,
   "id": "ded818c1-1747-4aa2-8558-c647d563c11f",
   "metadata": {},
   "outputs": [],
   "source": [
    "# Percentage of students passing math and reading\n",
    "passing_math = merged_data[merged_data['math_score'] >= 70].count()['student_name'] / total_students * 100\n",
    "passing_reading = merged_data[merged_data['reading_score'] >= 70].count()['student_name'] / total_students * 100\n",
    "passing_math"
   ]
  },
  {
   "cell_type": "code",
   "execution_count": null,
   "id": "d630089f-cbc8-4ef5-a0a6-9d994f4fe4fb",
   "metadata": {},
   "outputs": [],
   "source": [
    "# Percentage of students passing both math and reading\n",
    "overall_passing = merged_data[(merged_data['math_score'] >= 70) & (merged_data['reading_score'] >= 70)].count()['student_name'] / total_students * 100\n",
    "overall_passing"
   ]
  },
  {
   "cell_type": "code",
   "execution_count": null,
   "id": "33b0c4e8-a74a-4edf-a714-9256f2c3c627",
   "metadata": {},
   "outputs": [],
   "source": [
    "# Creating the District Summary DataFrame\n",
    "district_summary = pd.DataFrame({\n",
    "    \"Total Schools\": [total_schools],\n",
    "    \"Total Students\": [total_students],\n",
    "    \"Total Budget\": [total_budget],\n",
    "    \"Average Math Score\": [average_math_score],\n",
    "    \"Average Reading Score\": [average_reading_score],\n",
    "    \"% Passing Math\": [passing_math],\n",
    "    \"% Passing Reading\": [passing_reading],\n",
    "    \"% Overall Passing\": [overall_passing]\n",
    "})\n",
    "district_summary"
   ]
  },
  {
   "cell_type": "code",
   "execution_count": null,
   "id": "a96e61bc-b0a3-49b0-bb1e-929527408cb0",
   "metadata": {},
   "outputs": [],
   "source": [
    "# School Summary Calculations\n",
    "school_group = merged_data.groupby('school_name')\n",
    "school_types = schools_complete.set_index('school_name')['type']\n",
    "total_students_per_school = school_group['Student ID'].count()\n",
    "total_school_budget = school_group['budget'].first()\n",
    "per_student_budget = total_school_budget / total_students_per_school\n",
    "average_math_score_per_school = school_group['math_score'].mean()\n",
    "average_reading_score_per_school = school_group['reading_score'].mean()\n",
    "percent_passing_math_per_school = (merged_data[merged_data['math_score'] >= 70].groupby('school_name')['Student ID'].count() / total_students_per_school) * 100\n",
    "percent_passing_reading_per_school = (merged_data[merged_data['reading_score'] >= 70].groupby('school_name')['Student ID'].count() / total_students_per_school) * 100\n",
    "percent_overall_passing_per_school = (merged_data[(merged_data['math_score'] >= 70) & (merged_data['reading_score'] >= 70)].groupby('school_name')['Student ID'].count() / total_students_per_school) * 100"
   ]
  },
  {
   "cell_type": "code",
   "execution_count": null,
   "id": "4ce155c2-6364-420b-8594-4a42fb504165",
   "metadata": {},
   "outputs": [],
   "source": [
    "# Creating the School Summary DataFrame\n",
    "school_summary = pd.DataFrame({\n",
    "    \"School Type\": school_types,\n",
    "    \"Total Students\": total_students_per_school,\n",
    "    \"Total School Budget\": total_school_budget,\n",
    "    \"Per Student Budget\": per_student_budget,\n",
    "    \"Average Math Score\": average_math_score_per_school,\n",
    "    \"Average Reading Score\": average_reading_score_per_school,\n",
    "    \"% Passing Math\": percent_passing_math_per_school,\n",
    "    \"% Passing Reading\": percent_passing_reading_per_school,\n",
    "    \"% Overall Passing\": percent_overall_passing_per_school\n",
    "})\n",
    "school_summary"
   ]
  },
  {
   "cell_type": "code",
   "execution_count": null,
   "id": "451f29c0-3ba4-4e89-806b-8b14e6a10e60",
   "metadata": {},
   "outputs": [],
   "source": [
    "# Top Performing Schools\n",
    "top_schools = school_summary.sort_values('% Overall Passing', ascending=False).head(5)\n",
    "top_schools"
   ]
  },
  {
   "cell_type": "code",
   "execution_count": null,
   "id": "b57b611b-2619-4f8f-b746-f2006f8acaa5",
   "metadata": {},
   "outputs": [],
   "source": [
    "# Bottom Performing Schools\n",
    "bottom_schools = school_summary.sort_values('% Overall Passing', ascending=True).head(5)\n",
    "bottom_schools"
   ]
  },
  {
   "cell_type": "code",
   "execution_count": null,
   "id": "f67f738c-71f6-417c-96fb-db897912036d",
   "metadata": {},
   "outputs": [],
   "source": [
    "# Math Scores by Grade\n",
    "math_scores_by_grade = merged_data.groupby(['school_name', 'grade'])['math_score'].mean().unstack()\n",
    "math_scores_by_grade"
   ]
  },
  {
   "cell_type": "code",
   "execution_count": null,
   "id": "4d52c682-131c-4808-8f5a-a79eb11cc529",
   "metadata": {},
   "outputs": [],
   "source": [
    "# Reading Scores by Grade\n",
    "reading_scores_by_grade = merged_data.groupby(['school_name', 'grade'])['reading_score'].mean().unstack()\n",
    "reading_scores_by_grade"
   ]
  },
  {
   "cell_type": "code",
   "execution_count": null,
   "id": "e53ab8b1-97fc-4650-9bbe-ae4d505a017e",
   "metadata": {},
   "outputs": [],
   "source": [
    "# Scores by School Spending\n",
    "spending_bins = [0, 585, 630, 645, 680]\n",
    "spending_labels = [\"<$585\", \"$585-630\", \"$630-645\", \"$645-680\"]\n",
    "school_summary['Spending Ranges (Per Student)'] = pd.cut(school_summary['Per Student Budget'], spending_bins, labels=spending_labels)\n",
    "\n",
    "spending_math_scores = school_summary.groupby(\"Spending Ranges (Per Student)\")[\"Average Math Score\"].mean()\n",
    "spending_reading_scores = school_summary.groupby(\"Spending Ranges (Per Student)\")[\"Average Reading Score\"].mean()\n",
    "spending_passing_math = school_summary.groupby(\"Spending Ranges (Per Student)\")[\"% Passing Math\"].mean()\n",
    "spending_passing_reading = school_summary.groupby(\"Spending Ranges (Per Student)\")[\"% Passing Reading\"].mean()\n",
    "spending_overall_passing = school_summary.groupby(\"Spending Ranges (Per Student)\")[\"% Overall Passing\"].mean()"
   ]
  },
  {
   "cell_type": "code",
   "execution_count": null,
   "id": "25bfa340-d899-4cc7-a721-fcd47a297e94",
   "metadata": {},
   "outputs": [],
   "source": [
    "spending_summary = pd.DataFrame({\n",
    "    \"Average Math Score\": spending_math_scores,\n",
    "    \"Average Reading Score\": spending_reading_scores,\n",
    "    \"% Passing Math\": spending_passing_math,\n",
    "    \"% Passing Reading\": spending_passing_reading,\n",
    "    \"% Overall Passing\": spending_overall_passing\n",
    "})\n",
    "spending_summary"
   ]
  },
  {
   "cell_type": "code",
   "execution_count": null,
   "id": "5b639fc9-5b70-42f2-b7bb-2904fa6d6a43",
   "metadata": {},
   "outputs": [],
   "source": [
    "# Scores by School Size\n",
    "# Creating the bins for school size\n",
    "size_bins = [0, 1000, 2000, 5000]\n",
    "size_labels = [\"Small (<1000)\", \"Medium (1000-2000)\", \"Large (2000-5000)\"]\n",
    "school_summary['School Size'] = pd.cut(school_summary['Total Students'], size_bins, labels=size_labels)\n",
    "\n",
    "# Ensure school_summary columns are numeric where required\n",
    "school_summary_numeric = school_summary.select_dtypes(include=['float64', 'int64'])\n",
    "\n",
    "# Now group by \"School Size\" and calculate the means explicitly for each metric\n",
    "size_math_scores = school_summary_numeric.groupby(school_summary['School Size'], observed=False)[\"Average Math Score\"].mean()\n",
    "size_reading_scores = school_summary_numeric.groupby(school_summary['School Size'], observed=False)[\"Average Reading Score\"].mean()\n",
    "size_passing_math = school_summary_numeric.groupby(school_summary['School Size'], observed=False)[\"% Passing Math\"].mean()\n",
    "size_passing_reading = school_summary_numeric.groupby(school_summary['School Size'], observed=False)[\"% Passing Reading\"].mean()\n",
    "size_overall_passing = school_summary_numeric.groupby(school_summary['School Size'], observed=False)[\"% Overall Passing\"].mean()\n",
    "size_math_scores"
   ]
  },
  {
   "cell_type": "code",
   "execution_count": null,
   "id": "3269be34-b68f-4f22-84a9-f1ee1894a1ad",
   "metadata": {},
   "outputs": [],
   "source": [
    "size_summary = pd.DataFrame({\n",
    "    \"Average Math Score\": size_math_scores,\n",
    "    \"Average Reading Score\": size_reading_scores,\n",
    "    \"% Passing Math\": size_passing_math,\n",
    "    \"% Passing Reading\": size_passing_reading,\n",
    "    \"% Overall Passing\": size_overall_passing\n",
    "})\n",
    "size_summary"
   ]
  },
  {
   "cell_type": "code",
   "execution_count": null,
   "id": "627ddb29-46a5-4af5-8a7a-27cdfa1fabc0",
   "metadata": {},
   "outputs": [],
   "source": [
    "# Scores by School Type\n",
    "type_summary = type_summary = school_summary.groupby(\"School Type\").mean(numeric_only=True)[[\n",
    "    \"Average Math Score\", \n",
    "    \"Average Reading Score\", \n",
    "    \"% Passing Math\", \n",
    "    \"% Passing Reading\", \n",
    "    \"% Overall Passing\"\n",
    "]]\n",
    "type_summary"
   ]
  }
 ],
 "metadata": {
  "kernelspec": {
   "display_name": "Python 3 (ipykernel)",
   "language": "python",
   "name": "python3"
  },
  "language_info": {
   "codemirror_mode": {
    "name": "ipython",
    "version": 3
   },
   "file_extension": ".py",
   "mimetype": "text/x-python",
   "name": "python",
   "nbconvert_exporter": "python",
   "pygments_lexer": "ipython3",
   "version": "3.12.4"
  }
 },
 "nbformat": 4,
 "nbformat_minor": 5
}
